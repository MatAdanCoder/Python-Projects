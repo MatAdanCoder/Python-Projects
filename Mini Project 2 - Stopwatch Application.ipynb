{
 "cells": [
  {
   "cell_type": "markdown",
   "id": "cosmetic-earthquake",
   "metadata": {},
   "source": [
    "# Mini Project 2 - Stopwatch Application"
   ]
  },
  {
   "cell_type": "markdown",
   "id": "alpha-cheat",
   "metadata": {},
   "source": [
    "* Create a stopwatch application that has functions start(), stop() and reset().\n",
    "* The count should start when you call the start() function.\n",
    "* When stop() function is called stop the count and return the duration.\n",
    "* Calling reset() function will reset the duration to 0\n",
    "* Extra: Log the events as a new line every time the stop() function is called into a CSV file"
   ]
  },
  {
   "cell_type": "code",
   "execution_count": 1,
   "id": "lyric-romania",
   "metadata": {},
   "outputs": [],
   "source": [
    "# import the necessary modules\n"
   ]
  },
  {
   "cell_type": "code",
   "execution_count": 2,
   "id": "adjusted-salvation",
   "metadata": {},
   "outputs": [],
   "source": [
    "# start() function\n"
   ]
  },
  {
   "cell_type": "code",
   "execution_count": 3,
   "id": "urban-spank",
   "metadata": {},
   "outputs": [],
   "source": [
    "# stop() function\n"
   ]
  },
  {
   "cell_type": "code",
   "execution_count": 4,
   "id": "intense-disaster",
   "metadata": {},
   "outputs": [],
   "source": [
    "# reset() function\n"
   ]
  }
 ],
 "metadata": {
  "kernelspec": {
   "display_name": "Python 3",
   "language": "python",
   "name": "python3"
  },
  "language_info": {
   "codemirror_mode": {
    "name": "ipython",
    "version": 3
   },
   "file_extension": ".py",
   "mimetype": "text/x-python",
   "name": "python",
   "nbconvert_exporter": "python",
   "pygments_lexer": "ipython3",
   "version": "3.8.8"
  }
 },
 "nbformat": 4,
 "nbformat_minor": 5
}
