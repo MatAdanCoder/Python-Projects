{
 "cells": [
  {
   "cell_type": "markdown",
   "id": "included-irrigation",
   "metadata": {},
   "source": [
    "# Mini Project 1: Temperature Conversion"
   ]
  },
  {
   "cell_type": "markdown",
   "id": "quick-daughter",
   "metadata": {},
   "source": [
    "* Create a simple temperature conversion application that converts the temperature measurements from degrees Celsius to degrees Fahrenheit or vice versa based on the mode selection by the user. \n",
    "* The comments below serves as a guide for you to complete the project. \n",
    "* You are free to add extra features to the project given that you satisfy all the requirements that was asked.\n",
    "\n",
    "Note: You do not need to attach the .csv file when you are submitting"
   ]
  },
  {
   "cell_type": "code",
   "execution_count": 1,
   "id": "bound-pharmacology",
   "metadata": {},
   "outputs": [],
   "source": [
    "# Import all the modules that are required for the project here\n",
    "from datetime import datetime"
   ]
  },
  {
   "cell_type": "code",
   "execution_count": 2,
   "id": "effective-compact",
   "metadata": {},
   "outputs": [],
   "source": [
    "# Prompt the user to select the mode (Celsius or Fahrenheit)\n",
    "unit = input(\"Select the mode('C' for Celcius or 'F' for Fahrenheit ): \")"
   ]
  },
  {
   "cell_type": "code",
   "execution_count": 3,
   "id": "plain-worse",
   "metadata": {},
   "outputs": [],
   "source": [
    "# Prompt the user to insert the value that needs to be converted to the other unit\n",
    "temp = float(input(\"Please enter temperature\"))"
   ]
  },
  {
   "cell_type": "code",
   "execution_count": 5,
   "id": "diagnostic-little",
   "metadata": {},
   "outputs": [
    {
     "name": "stdout",
     "output_type": "stream",
     "text": [
      "Temperature in Celcius = 40.0\n"
     ]
    }
   ],
   "source": [
    "# Convert the values inserted into the other unit and display on the output\n",
    "if unit == 'C' or unit == 'c':\n",
    "    newTemp = (temp * 9/5) + 32\n",
    "    print(\"Temperature in Fahrenheit =\", newTemp)\n",
    "if unit == 'F' or unit == 'f':\n",
    "    newTemp = (temp - 32) / (9 / 5)\n",
    "    print(\"Temperature in Celcius =\", newTemp)\n",
    "else:\n",
    "    print(\"unknown unit!\")"
   ]
  },
  {
   "cell_type": "code",
   "execution_count": 4,
   "id": "indirect-indicator",
   "metadata": {},
   "outputs": [],
   "source": [
    "# store in a CSV file with datetime information by adding a new line for each entry\n",
    "# datetime, mode, value in selected unit, converted value\n",
    "from datetime import datetime\n",
    "date = str(datetime.now())\n",
    "temp1 = str(temp)\n",
    "\n",
    "f = open(\"tempconv.csv\",'a')\n",
    "f.write(date+\",\"+unit+\",\"+temp1+\"\\n\")\n",
    "f.close()"
   ]
  },
  {
   "cell_type": "code",
   "execution_count": null,
   "id": "7e2edf55",
   "metadata": {},
   "outputs": [],
   "source": []
  }
 ],
 "metadata": {
  "kernelspec": {
   "display_name": "base",
   "language": "python",
   "name": "python3"
  },
  "language_info": {
   "codemirror_mode": {
    "name": "ipython",
    "version": 3
   },
   "file_extension": ".py",
   "mimetype": "text/x-python",
   "name": "python",
   "nbconvert_exporter": "python",
   "pygments_lexer": "ipython3",
   "version": "3.9.12"
  },
  "vscode": {
   "interpreter": {
    "hash": "91bb753b057673435fb8d6f6a083e6c818364728098c7ae050ca3a25357dd754"
   }
  }
 },
 "nbformat": 4,
 "nbformat_minor": 5
}
