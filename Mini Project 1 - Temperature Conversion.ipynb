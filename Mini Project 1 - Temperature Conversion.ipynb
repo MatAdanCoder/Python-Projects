{
 "cells": [
  {
   "cell_type": "markdown",
   "id": "included-irrigation",
   "metadata": {},
   "source": [
    "# Mini Project 1: Temperature Conversion"
   ]
  },
  {
   "cell_type": "markdown",
   "id": "quick-daughter",
   "metadata": {},
   "source": [
    "* Create a simple temperature conversion application that converts the temperature measurements from degrees Celsius to degrees Fahrenheit or vice versa based on the mode selection by the user. \n",
    "* The comments below serves as a guide for you to complete the project. \n",
    "* You are free to add extra features to the project given that you satisfy all the requirements that was asked.\n",
    "\n",
    "Note: You do not need to attach the .csv file when you are submitting"
   ]
  },
  {
   "cell_type": "code",
   "execution_count": null,
   "id": "bound-pharmacology",
   "metadata": {},
   "outputs": [
    {
     "ename": "",
     "evalue": "",
     "output_type": "error",
     "traceback": [
      "\u001b[1;31mThe kernel failed to start as a dll could not be loaded.\n",
      "\u001b[1;31mClick <a href='https://aka.ms/kernelFailuresDllLoad'>here</a> for more info."
     ]
    }
   ],
   "source": [
    "# Import all the modules that are required for the project here\n",
    "from datetime import datetime"
   ]
  },
  {
   "cell_type": "code",
   "execution_count": 2,
   "id": "effective-compact",
   "metadata": {},
   "outputs": [],
   "source": [
    "# Prompt the user to select the mode (Celsius or Fahrenheit)\n",
    "ques = input(\"Input the temperature you want to convert. (example: 44F, 103C etc) : \")"
   ]
  },
  {
   "cell_type": "code",
   "execution_count": 3,
   "id": "plain-worse",
   "metadata": {},
   "outputs": [],
   "source": [
    "# Prompt the user to insert the value that needs to be converted to the other unit\n"
   ]
  },
  {
   "cell_type": "code",
   "execution_count": 4,
   "id": "diagnostic-little",
   "metadata": {},
   "outputs": [],
   "source": [
    "# Convert the values inserted into the other unit and display on the output\n"
   ]
  },
  {
   "cell_type": "code",
   "execution_count": 5,
   "id": "indirect-indicator",
   "metadata": {},
   "outputs": [],
   "source": [
    "# store in a CSV file with datetime information by adding a new line for each entry\n",
    "# datetime, mode, value in selected unit, converted value\n"
   ]
  }
 ],
 "metadata": {
  "kernelspec": {
   "display_name": "base",
   "language": "python",
   "name": "python3"
  },
  "language_info": {
   "codemirror_mode": {
    "name": "ipython",
    "version": 3
   },
   "file_extension": ".py",
   "mimetype": "text/x-python",
   "name": "python",
   "nbconvert_exporter": "python",
   "pygments_lexer": "ipython3",
   "version": "3.9.12 (main, Apr  4 2022, 05:22:27) [MSC v.1916 64 bit (AMD64)]"
  },
  "vscode": {
   "interpreter": {
    "hash": "91bb753b057673435fb8d6f6a083e6c818364728098c7ae050ca3a25357dd754"
   }
  }
 },
 "nbformat": 4,
 "nbformat_minor": 5
}
