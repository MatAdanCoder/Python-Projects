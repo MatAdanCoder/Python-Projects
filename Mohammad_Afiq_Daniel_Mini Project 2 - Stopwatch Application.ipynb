{
 "cells": [
  {
   "cell_type": "markdown",
   "id": "cosmetic-earthquake",
   "metadata": {},
   "source": [
    "# Mini Project 2 - Stopwatch Application"
   ]
  },
  {
   "cell_type": "markdown",
   "id": "alpha-cheat",
   "metadata": {},
   "source": [
    "* Create a stopwatch application that has functions start(), stop() and reset().\n",
    "* The count should start when you call the start() function.\n",
    "* When stop() function is called stop the count and return the duration.\n",
    "* Calling reset() function will reset the duration to 0\n",
    "* Extra: Log the events as a new line every time the stop() function is called into a CSV file"
   ]
  },
  {
   "cell_type": "code",
   "execution_count": 3,
   "id": "lyric-romania",
   "metadata": {},
   "outputs": [],
   "source": [
    "# import the necessary modules\n",
    "from datetime import datetime"
   ]
  },
  {
   "cell_type": "code",
   "execution_count": 24,
   "id": "adjusted-salvation",
   "metadata": {},
   "outputs": [],
   "source": [
    "# start() function\n",
    "def start():\n",
    "    global starttime\n",
    "    starttime = datetime.now()\n",
    "    print(starttime)"
   ]
  },
  {
   "cell_type": "code",
   "execution_count": 25,
   "id": "urban-spank",
   "metadata": {},
   "outputs": [],
   "source": [
    "# stop() function\n",
    "def stop():\n",
    "    global stoptime\n",
    "    stoptime = datetime.now()\n",
    "    duration = stoptime - starttime\n",
    "    print(duration)"
   ]
  },
  {
   "cell_type": "code",
   "execution_count": 26,
   "id": "intense-disaster",
   "metadata": {},
   "outputs": [],
   "source": [
    "# reset() function\n",
    "def reset():\n",
    "    duration = 0\n",
    "    print(duration)"
   ]
  },
  {
   "cell_type": "code",
   "execution_count": 27,
   "id": "6c7538cf",
   "metadata": {},
   "outputs": [
    {
     "name": "stdout",
     "output_type": "stream",
     "text": [
      "2023-01-07 12:42:05.797007\n"
     ]
    }
   ],
   "source": [
    "start()"
   ]
  },
  {
   "cell_type": "code",
   "execution_count": 28,
   "id": "dd7776c3",
   "metadata": {},
   "outputs": [
    {
     "name": "stdout",
     "output_type": "stream",
     "text": [
      "0:00:02.338231\n"
     ]
    }
   ],
   "source": [
    "stop()"
   ]
  },
  {
   "cell_type": "code",
   "execution_count": 29,
   "id": "f40d1707",
   "metadata": {},
   "outputs": [
    {
     "name": "stdout",
     "output_type": "stream",
     "text": [
      "0\n"
     ]
    }
   ],
   "source": [
    "reset()"
   ]
  },
  {
   "attachments": {},
   "cell_type": "markdown",
   "id": "2098b5af",
   "metadata": {},
   "source": [
    "* Extra: Log the events as a new line every time the stop() function is called into a CSV file"
   ]
  },
  {
   "cell_type": "code",
   "execution_count": null,
   "id": "f2f43956",
   "metadata": {},
   "outputs": [],
   "source": [
    "from datetime import datetime\n",
    "\n",
    "f = open(\"stopwatch.csv\",'a')\n",
    "f.write(start()+\",\"+stop()+\"\\n\")\n",
    "f.close()\n",
    "\n",
    "#stuck"
   ]
  },
  {
   "cell_type": "code",
   "execution_count": null,
   "id": "994ca791",
   "metadata": {},
   "outputs": [],
   "source": []
  }
 ],
 "metadata": {
  "kernelspec": {
   "display_name": "Python 3",
   "language": "python",
   "name": "python3"
  },
  "language_info": {
   "codemirror_mode": {
    "name": "ipython",
    "version": 3
   },
   "file_extension": ".py",
   "mimetype": "text/x-python",
   "name": "python",
   "nbconvert_exporter": "python",
   "pygments_lexer": "ipython3",
   "version": "3.9.12 (main, Apr  4 2022, 05:22:27) [MSC v.1916 64 bit (AMD64)]"
  },
  "vscode": {
   "interpreter": {
    "hash": "91bb753b057673435fb8d6f6a083e6c818364728098c7ae050ca3a25357dd754"
   }
  }
 },
 "nbformat": 4,
 "nbformat_minor": 5
}
